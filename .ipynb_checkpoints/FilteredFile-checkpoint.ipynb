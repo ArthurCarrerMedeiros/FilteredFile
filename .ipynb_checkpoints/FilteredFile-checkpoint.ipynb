{
 "cells": [
  {
   "cell_type": "code",
   "execution_count": 31,
   "id": "f77ad668-1012-4384-a6a6-9bb04ed20bd7",
   "metadata": {
    "tags": []
   },
   "outputs": [
    {
     "name": "stdin",
     "output_type": "stream",
     "text": [
      "Enter the first letter of the first name to filter in the file:\n",
      " F\n",
      "Enter the first letter of the second name to filter in the file:\n",
      " g\n"
     ]
    }
   ],
   "source": [
    "import re\n",
    "\n",
    "try:\n",
    "    return_values = ''\n",
    "    first_filter = input(\"Enter the first letter of the first name to filter in the file:\\n\")[0]\n",
    "    second_filter = input(\"Enter the first letter of the second name to filter in the file:\\n\")[0]\n",
    "    \n",
    "    if first_filter.isdigit() or second_filter.isdigit():\n",
    "        raise ValueError('Incorrect value, please enter a letter!')\n",
    "except ValueError as ex:\n",
    "    print(str(ex))\n",
    "except IndexError as ex2:\n",
    "    print('Please enter a character!')\n",
    "else:\n",
    "    with open(\"names.txt\", encoding='utf-8') as file:\n",
    "        for line in file:\n",
    "            if re.search(f'^{first_filter}.+ {second_filter}.+', line, flags=re.IGNORECASE):\n",
    "                return_values += line\n",
    "\n",
    "    with open(\"FilteredNames.txt\", 'w') as file:\n",
    "        file.write(return_values)"
   ]
  }
 ],
 "metadata": {
  "kernelspec": {
   "display_name": "Python 3 (ipykernel)",
   "language": "python",
   "name": "python3"
  },
  "language_info": {
   "codemirror_mode": {
    "name": "ipython",
    "version": 3
   },
   "file_extension": ".py",
   "mimetype": "text/x-python",
   "name": "python",
   "nbconvert_exporter": "python",
   "pygments_lexer": "ipython3",
   "version": "3.11.5"
  }
 },
 "nbformat": 4,
 "nbformat_minor": 5
}
