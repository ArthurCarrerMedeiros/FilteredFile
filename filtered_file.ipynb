{
 "cells": [
  {
   "cell_type": "markdown",
   "id": "9e04bf31-9ff1-4b4a-b326-3fa24b5ffd69",
   "metadata": {
    "tags": []
   },
   "source": [
    "## Program"
   ]
  },
  {
   "cell_type": "code",
   "execution_count": 66,
   "id": "f77ad668-1012-4384-a6a6-9bb04ed20bd7",
   "metadata": {
    "tags": []
   },
   "outputs": [
    {
     "name": "stdout",
     "output_type": "stream",
     "text": [
      "Enter the first letter of the first name to filter in the file:\n",
      " F\n",
      "Enter the first letter of the second name to filter in the file:\n",
      " g\n"
     ]
    }
   ],
   "source": [
    "import re\n",
    "\n",
    "def filter_file(first_filter, second_filter):\n",
    "    if first_filter[0].isdigit() or second_filter[0].isdigit():\n",
    "        raise ValueError('Incorrect value, please enter a letter!')\n",
    "    \n",
    "    return_values = ''\n",
    "    with open(\"names.txt\", encoding='utf-8') as file:\n",
    "        for line in file:\n",
    "            if re.search(f'^{first_filter}.+ {second_filter}.+', line, flags=re.IGNORECASE):\n",
    "                return_values += line\n",
    "\n",
    "    with open(\"filtered_names.txt\", 'w') as file:\n",
    "        file.write(return_values)\n",
    "        \n",
    "try:\n",
    "    first_filter = input(\"Enter the first letter of the first name to filter in the file:\\n\")[0]\n",
    "    second_filter = input(\"Enter the first letter of the second name to filter in the file:\\n\")[0]\n",
    "    filter_file(first_filter, second_filter)\n",
    "except ValueError as ex:\n",
    "    print(str(ex))\n",
    "except IndexError as ex2:\n",
    "    print('Please enter a character!')"
   ]
  },
  {
   "cell_type": "markdown",
   "id": "6417050c-4eee-4538-b058-10e12982bb9b",
   "metadata": {},
   "source": [
    "## Tests"
   ]
  },
  {
   "cell_type": "code",
   "execution_count": 1,
   "id": "0c80bf6a-0336-4342-a8f2-b5e252c7a1a9",
   "metadata": {
    "tags": []
   },
   "outputs": [
    {
     "name": "stdout",
     "output_type": "stream",
     "text": [
      "\u001b[32m.\u001b[0m\u001b[32m.\u001b[0m\u001b[32m                                                                                           [100%]\u001b[0m\n"
     ]
    },
    {
     "data": {
      "text/plain": [
       "<ExitCode.OK: 0>"
      ]
     },
     "execution_count": 1,
     "metadata": {},
     "output_type": "execute_result"
    }
   ],
   "source": [
    "import pytest as pt\n",
    "import ipytest\n",
    "from test_program import filter_file\n",
    "\n",
    "ipytest.autoconfig()\n",
    "\n",
    "def test_file():\n",
    "    filter_file('F', 'g')\n",
    "    \n",
    "    with open('filtered_names.txt', 'r') as file:\n",
    "        data = file.read()\n",
    "    assert data != ''\n",
    "\n",
    "def test_filter_names_with_number():\n",
    "    with pt.raises(ValueError):\n",
    "        filter_file('1', 'b')\n",
    "        \n",
    "ipytest.run('-qq')"
   ]
  }
 ],
 "metadata": {
  "kernelspec": {
   "display_name": "Python 3 (ipykernel)",
   "language": "python",
   "name": "python3"
  },
  "language_info": {
   "codemirror_mode": {
    "name": "ipython",
    "version": 3
   },
   "file_extension": ".py",
   "mimetype": "text/x-python",
   "name": "python",
   "nbconvert_exporter": "python",
   "pygments_lexer": "ipython3",
   "version": "3.11.6"
  }
 },
 "nbformat": 4,
 "nbformat_minor": 5
}
